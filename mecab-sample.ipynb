{
 "cells": [
  {
   "cell_type": "code",
   "execution_count": 4,
   "metadata": {},
   "outputs": [
    {
     "name": "stdout",
     "output_type": "stream",
     "text": [
      "ここ\tココ\tココ\t此処\t代名詞\t\t\t0\n",
      "で\tデ\tデ\tで\t助詞-格助詞\t\t\t\n",
      "は\tワ\tハ\tは\t助詞-係助詞\t\t\t\n",
      "きもの\tキモノ\tキモノ\t着物\t名詞-普通名詞-一般\t\t\t0\n",
      "を\tオ\tヲ\tを\t助詞-格助詞\t\t\t\n",
      "ぬい\tヌイ\tヌグ\t脱ぐ\t動詞-一般\t五段-ガ行\t連用形-イ音便\t1\n",
      "で\tデ\tテ\tて\t助詞-接続助詞\t\t\t\n",
      "ください\tクダサイ\tクダサル\t下さる\t動詞-非自立可能\t五段-ラ行\t命令形\t3\n",
      "EOS\n",
      "\n"
     ]
    }
   ],
   "source": [
    "import MeCab\n",
    "mecab = MeCab.Tagger()\n",
    "sent = \"ここではきものをぬいでください\"\n",
    "print(mecab.parse(sent))"
   ]
  },
  {
   "cell_type": "code",
   "execution_count": null,
   "metadata": {},
   "outputs": [],
   "source": []
  }
 ],
 "metadata": {
  "kernelspec": {
   "display_name": "Python 3",
   "language": "python",
   "name": "python3"
  },
  "language_info": {
   "codemirror_mode": {
    "name": "ipython",
    "version": 3
   },
   "file_extension": ".py",
   "mimetype": "text/x-python",
   "name": "python",
   "nbconvert_exporter": "python",
   "pygments_lexer": "ipython3",
   "version": "3.7.8"
  }
 },
 "nbformat": 4,
 "nbformat_minor": 4
}
